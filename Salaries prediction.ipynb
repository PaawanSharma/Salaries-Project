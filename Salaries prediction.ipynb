{
 "cells": [
  {
   "cell_type": "markdown",
   "metadata": {},
   "source": [
    "# Salary Predictions Based on Job Descriptions"
   ]
  },
  {
   "cell_type": "markdown",
   "metadata": {},
   "source": [
    "# Part 1 - DEFINE"
   ]
  },
  {
   "cell_type": "markdown",
   "metadata": {},
   "source": [
    "### ---- 1 Define the problem ----"
   ]
  },
  {
   "cell_type": "markdown",
   "metadata": {},
   "source": [
    "This project intends to predict salaries for given job descriptions.\n",
    "\n",
    "Job descriptions have eight __features__:\n",
    "* __jobId__ = a unique index for each job\n",
    "* __companyId__ = a unique ID for the company the job is for\n",
    "* __jobType__ = a categorical feature describing the role\n",
    "* __degree__ = a categorical feature describing the required education level\n",
    "* __major__ = a categorical feature conveying the field in which a degree is required, if any\n",
    "* __industry__ = a categorical feature describing the industry to which the job belongs\n",
    "* __yearsExperience__ = a numerical feature measuring how many years of work experience are required for the role\n",
    "* __milesFromMetropolis__ = a numerical feature measuring how far the workplace is located from a metropolis\n",
    "\n",
    "The __target__ is __salary__. Salaries are given in the training set and need to be predicted for the test set."
   ]
  },
  {
   "cell_type": "code",
   "execution_count": 1,
   "metadata": {},
   "outputs": [],
   "source": [
    "# Import needed libraries\n",
    "import numpy as np\n",
    "import pandas as pd\n",
    "import matplotlib.pyplot as plt\n",
    "import seaborn as sns\n",
    "\n",
    "# Make matplotlib visualisations inline\n",
    "%matplotlib inline\n",
    "\n",
    "# Author information\n",
    "__author__ = \"Paawan Sharma\"\n",
    "__email__ = \"paawansharma@protonmail.com\""
   ]
  },
  {
   "cell_type": "markdown",
   "metadata": {},
   "source": [
    "# Part 2 - DISCOVER"
   ]
  },
  {
   "cell_type": "markdown",
   "metadata": {},
   "source": [
    "### ---- 2 Load the data ----"
   ]
  },
  {
   "cell_type": "code",
   "execution_count": null,
   "metadata": {},
   "outputs": [],
   "source": [
    "# Load the training and test data in pandas DataFrames\n",
    "\n",
    "train_data = pd.read_csv('data/train_features.csv', header=0)\n",
    "train_data['salary'] = pd.read_csv('data/train_salaries.csv', header=0)['salary']\n",
    "\n",
    "test_data = pd.read_csv('data/test_features.csv', header=0)"
   ]
  },
  {
   "cell_type": "code",
   "execution_count": null,
   "metadata": {},
   "outputs": [],
   "source": []
  },
  {
   "cell_type": "code",
   "execution_count": null,
   "metadata": {},
   "outputs": [],
   "source": []
  }
 ],
 "metadata": {
  "kernelspec": {
   "display_name": "Python 3",
   "language": "python",
   "name": "python3"
  },
  "language_info": {
   "codemirror_mode": {
    "name": "ipython",
    "version": 3
   },
   "file_extension": ".py",
   "mimetype": "text/x-python",
   "name": "python",
   "nbconvert_exporter": "python",
   "pygments_lexer": "ipython3",
   "version": "3.8.5"
  }
 },
 "nbformat": 4,
 "nbformat_minor": 4
}
