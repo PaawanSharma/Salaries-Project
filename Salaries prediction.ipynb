{
 "cells": [
  {
   "cell_type": "markdown",
   "metadata": {},
   "source": [
    "# Salary Predictions Based on Job Descriptions"
   ]
  },
  {
   "cell_type": "markdown",
   "metadata": {},
   "source": [
    "# Part 1 - DEFINE"
   ]
  },
  {
   "cell_type": "markdown",
   "metadata": {},
   "source": [
    "### ---- 1 Define the problem ----"
   ]
  },
  {
   "cell_type": "markdown",
   "metadata": {},
   "source": [
    "This project intends to predict salaries for given job descriptions.\n",
    "\n",
    "Job descriptions have eight __features__:\n",
    "* __jobId__ = a unique index for each job\n",
    "* __companyId__ = a categorical ID for the company the job is for\n",
    "* __jobType__ = a categorical feature describing the role\n",
    "* __degree__ = a categorical feature describing the required education level\n",
    "* __major__ = a categorical feature conveying the field in which a degree is required, if any\n",
    "* __industry__ = a categorical feature describing the industry to which the job belongs\n",
    "* __yearsExperience__ = a numerical feature measuring how many years of work experience are required for the role\n",
    "* __milesFromMetropolis__ = a numerical feature measuring how far the workplace is located from a metropolis\n",
    "\n",
    "The __target__ is __salary__. Salaries are given in the training set and need to be predicted for the test set."
   ]
  },
  {
   "cell_type": "code",
   "execution_count": 1,
   "metadata": {},
   "outputs": [],
   "source": [
    "# Import needed libraries\n",
    "import numpy as np\n",
    "import pandas as pd\n",
    "import matplotlib.pyplot as plt\n",
    "import seaborn as sns\n",
    "\n",
    "# Make matplotlib visualisations inline\n",
    "%matplotlib inline\n",
    "\n",
    "# Author information\n",
    "__author__ = \"Paawan Sharma\"\n",
    "__email__ = \"paawansharma@protonmail.com\""
   ]
  },
  {
   "cell_type": "markdown",
   "metadata": {},
   "source": [
    "# Part 2 - DISCOVER"
   ]
  },
  {
   "cell_type": "markdown",
   "metadata": {},
   "source": [
    "### ---- 2 Load the data ----"
   ]
  },
  {
   "cell_type": "code",
   "execution_count": 2,
   "metadata": {},
   "outputs": [],
   "source": [
    "# Load the training and test data in pandas DataFrames\n",
    "\n",
    "train_data = pd.read_csv('data/train_features.csv', header=0)\n",
    "train_data['salary'] = pd.read_csv('data/train_salaries.csv', header=0)['salary']\n",
    "\n",
    "test_data = pd.read_csv('data/test_features.csv', header=0)"
   ]
  },
  {
   "cell_type": "markdown",
   "metadata": {},
   "source": [
    "#### Take an initial look at the data."
   ]
  },
  {
   "cell_type": "code",
   "execution_count": 3,
   "metadata": {},
   "outputs": [
    {
     "data": {
      "text/html": [
       "<div>\n",
       "<style scoped>\n",
       "    .dataframe tbody tr th:only-of-type {\n",
       "        vertical-align: middle;\n",
       "    }\n",
       "\n",
       "    .dataframe tbody tr th {\n",
       "        vertical-align: top;\n",
       "    }\n",
       "\n",
       "    .dataframe thead th {\n",
       "        text-align: right;\n",
       "    }\n",
       "</style>\n",
       "<table border=\"1\" class=\"dataframe\">\n",
       "  <thead>\n",
       "    <tr style=\"text-align: right;\">\n",
       "      <th></th>\n",
       "      <th>jobId</th>\n",
       "      <th>companyId</th>\n",
       "      <th>jobType</th>\n",
       "      <th>degree</th>\n",
       "      <th>major</th>\n",
       "      <th>industry</th>\n",
       "      <th>yearsExperience</th>\n",
       "      <th>milesFromMetropolis</th>\n",
       "      <th>salary</th>\n",
       "    </tr>\n",
       "  </thead>\n",
       "  <tbody>\n",
       "    <tr>\n",
       "      <th>0</th>\n",
       "      <td>JOB1362684407687</td>\n",
       "      <td>COMP37</td>\n",
       "      <td>CFO</td>\n",
       "      <td>MASTERS</td>\n",
       "      <td>MATH</td>\n",
       "      <td>HEALTH</td>\n",
       "      <td>10</td>\n",
       "      <td>83</td>\n",
       "      <td>130</td>\n",
       "    </tr>\n",
       "    <tr>\n",
       "      <th>1</th>\n",
       "      <td>JOB1362684407688</td>\n",
       "      <td>COMP19</td>\n",
       "      <td>CEO</td>\n",
       "      <td>HIGH_SCHOOL</td>\n",
       "      <td>NONE</td>\n",
       "      <td>WEB</td>\n",
       "      <td>3</td>\n",
       "      <td>73</td>\n",
       "      <td>101</td>\n",
       "    </tr>\n",
       "    <tr>\n",
       "      <th>2</th>\n",
       "      <td>JOB1362684407689</td>\n",
       "      <td>COMP52</td>\n",
       "      <td>VICE_PRESIDENT</td>\n",
       "      <td>DOCTORAL</td>\n",
       "      <td>PHYSICS</td>\n",
       "      <td>HEALTH</td>\n",
       "      <td>10</td>\n",
       "      <td>38</td>\n",
       "      <td>137</td>\n",
       "    </tr>\n",
       "    <tr>\n",
       "      <th>3</th>\n",
       "      <td>JOB1362684407690</td>\n",
       "      <td>COMP38</td>\n",
       "      <td>MANAGER</td>\n",
       "      <td>DOCTORAL</td>\n",
       "      <td>CHEMISTRY</td>\n",
       "      <td>AUTO</td>\n",
       "      <td>8</td>\n",
       "      <td>17</td>\n",
       "      <td>142</td>\n",
       "    </tr>\n",
       "    <tr>\n",
       "      <th>4</th>\n",
       "      <td>JOB1362684407691</td>\n",
       "      <td>COMP7</td>\n",
       "      <td>VICE_PRESIDENT</td>\n",
       "      <td>BACHELORS</td>\n",
       "      <td>PHYSICS</td>\n",
       "      <td>FINANCE</td>\n",
       "      <td>8</td>\n",
       "      <td>16</td>\n",
       "      <td>163</td>\n",
       "    </tr>\n",
       "    <tr>\n",
       "      <th>...</th>\n",
       "      <td>...</td>\n",
       "      <td>...</td>\n",
       "      <td>...</td>\n",
       "      <td>...</td>\n",
       "      <td>...</td>\n",
       "      <td>...</td>\n",
       "      <td>...</td>\n",
       "      <td>...</td>\n",
       "      <td>...</td>\n",
       "    </tr>\n",
       "    <tr>\n",
       "      <th>999995</th>\n",
       "      <td>JOB1362685407682</td>\n",
       "      <td>COMP56</td>\n",
       "      <td>VICE_PRESIDENT</td>\n",
       "      <td>BACHELORS</td>\n",
       "      <td>CHEMISTRY</td>\n",
       "      <td>HEALTH</td>\n",
       "      <td>19</td>\n",
       "      <td>94</td>\n",
       "      <td>88</td>\n",
       "    </tr>\n",
       "    <tr>\n",
       "      <th>999996</th>\n",
       "      <td>JOB1362685407683</td>\n",
       "      <td>COMP24</td>\n",
       "      <td>CTO</td>\n",
       "      <td>HIGH_SCHOOL</td>\n",
       "      <td>NONE</td>\n",
       "      <td>FINANCE</td>\n",
       "      <td>12</td>\n",
       "      <td>35</td>\n",
       "      <td>160</td>\n",
       "    </tr>\n",
       "    <tr>\n",
       "      <th>999997</th>\n",
       "      <td>JOB1362685407684</td>\n",
       "      <td>COMP23</td>\n",
       "      <td>JUNIOR</td>\n",
       "      <td>HIGH_SCHOOL</td>\n",
       "      <td>NONE</td>\n",
       "      <td>EDUCATION</td>\n",
       "      <td>16</td>\n",
       "      <td>81</td>\n",
       "      <td>64</td>\n",
       "    </tr>\n",
       "    <tr>\n",
       "      <th>999998</th>\n",
       "      <td>JOB1362685407685</td>\n",
       "      <td>COMP3</td>\n",
       "      <td>CFO</td>\n",
       "      <td>MASTERS</td>\n",
       "      <td>NONE</td>\n",
       "      <td>HEALTH</td>\n",
       "      <td>6</td>\n",
       "      <td>5</td>\n",
       "      <td>149</td>\n",
       "    </tr>\n",
       "    <tr>\n",
       "      <th>999999</th>\n",
       "      <td>JOB1362685407686</td>\n",
       "      <td>COMP59</td>\n",
       "      <td>JUNIOR</td>\n",
       "      <td>BACHELORS</td>\n",
       "      <td>NONE</td>\n",
       "      <td>EDUCATION</td>\n",
       "      <td>20</td>\n",
       "      <td>11</td>\n",
       "      <td>88</td>\n",
       "    </tr>\n",
       "  </tbody>\n",
       "</table>\n",
       "<p>1000000 rows × 9 columns</p>\n",
       "</div>"
      ],
      "text/plain": [
       "                   jobId companyId         jobType       degree      major  \\\n",
       "0       JOB1362684407687    COMP37             CFO      MASTERS       MATH   \n",
       "1       JOB1362684407688    COMP19             CEO  HIGH_SCHOOL       NONE   \n",
       "2       JOB1362684407689    COMP52  VICE_PRESIDENT     DOCTORAL    PHYSICS   \n",
       "3       JOB1362684407690    COMP38         MANAGER     DOCTORAL  CHEMISTRY   \n",
       "4       JOB1362684407691     COMP7  VICE_PRESIDENT    BACHELORS    PHYSICS   \n",
       "...                  ...       ...             ...          ...        ...   \n",
       "999995  JOB1362685407682    COMP56  VICE_PRESIDENT    BACHELORS  CHEMISTRY   \n",
       "999996  JOB1362685407683    COMP24             CTO  HIGH_SCHOOL       NONE   \n",
       "999997  JOB1362685407684    COMP23          JUNIOR  HIGH_SCHOOL       NONE   \n",
       "999998  JOB1362685407685     COMP3             CFO      MASTERS       NONE   \n",
       "999999  JOB1362685407686    COMP59          JUNIOR    BACHELORS       NONE   \n",
       "\n",
       "         industry  yearsExperience  milesFromMetropolis  salary  \n",
       "0          HEALTH               10                   83     130  \n",
       "1             WEB                3                   73     101  \n",
       "2          HEALTH               10                   38     137  \n",
       "3            AUTO                8                   17     142  \n",
       "4         FINANCE                8                   16     163  \n",
       "...           ...              ...                  ...     ...  \n",
       "999995     HEALTH               19                   94      88  \n",
       "999996    FINANCE               12                   35     160  \n",
       "999997  EDUCATION               16                   81      64  \n",
       "999998     HEALTH                6                    5     149  \n",
       "999999  EDUCATION               20                   11      88  \n",
       "\n",
       "[1000000 rows x 9 columns]"
      ]
     },
     "metadata": {},
     "output_type": "display_data"
    },
    {
     "name": "stdout",
     "output_type": "stream",
     "text": [
      "<class 'pandas.core.frame.DataFrame'>\n",
      "RangeIndex: 1000000 entries, 0 to 999999\n",
      "Data columns (total 9 columns):\n",
      " #   Column               Non-Null Count    Dtype \n",
      "---  ------               --------------    ----- \n",
      " 0   jobId                1000000 non-null  object\n",
      " 1   companyId            1000000 non-null  object\n",
      " 2   jobType              1000000 non-null  object\n",
      " 3   degree               1000000 non-null  object\n",
      " 4   major                1000000 non-null  object\n",
      " 5   industry             1000000 non-null  object\n",
      " 6   yearsExperience      1000000 non-null  int64 \n",
      " 7   milesFromMetropolis  1000000 non-null  int64 \n",
      " 8   salary               1000000 non-null  int64 \n",
      "dtypes: int64(3), object(6)\n",
      "memory usage: 68.7+ MB\n"
     ]
    }
   ],
   "source": [
    "display(train_data)\n",
    "train_data.info()"
   ]
  },
  {
   "cell_type": "code",
   "execution_count": 4,
   "metadata": {},
   "outputs": [
    {
     "data": {
      "text/html": [
       "<div>\n",
       "<style scoped>\n",
       "    .dataframe tbody tr th:only-of-type {\n",
       "        vertical-align: middle;\n",
       "    }\n",
       "\n",
       "    .dataframe tbody tr th {\n",
       "        vertical-align: top;\n",
       "    }\n",
       "\n",
       "    .dataframe thead th {\n",
       "        text-align: right;\n",
       "    }\n",
       "</style>\n",
       "<table border=\"1\" class=\"dataframe\">\n",
       "  <thead>\n",
       "    <tr style=\"text-align: right;\">\n",
       "      <th></th>\n",
       "      <th>jobId</th>\n",
       "      <th>companyId</th>\n",
       "      <th>jobType</th>\n",
       "      <th>degree</th>\n",
       "      <th>major</th>\n",
       "      <th>industry</th>\n",
       "      <th>yearsExperience</th>\n",
       "      <th>milesFromMetropolis</th>\n",
       "    </tr>\n",
       "  </thead>\n",
       "  <tbody>\n",
       "    <tr>\n",
       "      <th>0</th>\n",
       "      <td>JOB1362685407687</td>\n",
       "      <td>COMP33</td>\n",
       "      <td>MANAGER</td>\n",
       "      <td>HIGH_SCHOOL</td>\n",
       "      <td>NONE</td>\n",
       "      <td>HEALTH</td>\n",
       "      <td>22</td>\n",
       "      <td>73</td>\n",
       "    </tr>\n",
       "    <tr>\n",
       "      <th>1</th>\n",
       "      <td>JOB1362685407688</td>\n",
       "      <td>COMP13</td>\n",
       "      <td>JUNIOR</td>\n",
       "      <td>NONE</td>\n",
       "      <td>NONE</td>\n",
       "      <td>AUTO</td>\n",
       "      <td>20</td>\n",
       "      <td>47</td>\n",
       "    </tr>\n",
       "    <tr>\n",
       "      <th>2</th>\n",
       "      <td>JOB1362685407689</td>\n",
       "      <td>COMP10</td>\n",
       "      <td>CTO</td>\n",
       "      <td>MASTERS</td>\n",
       "      <td>BIOLOGY</td>\n",
       "      <td>HEALTH</td>\n",
       "      <td>17</td>\n",
       "      <td>9</td>\n",
       "    </tr>\n",
       "    <tr>\n",
       "      <th>3</th>\n",
       "      <td>JOB1362685407690</td>\n",
       "      <td>COMP21</td>\n",
       "      <td>MANAGER</td>\n",
       "      <td>HIGH_SCHOOL</td>\n",
       "      <td>NONE</td>\n",
       "      <td>OIL</td>\n",
       "      <td>14</td>\n",
       "      <td>96</td>\n",
       "    </tr>\n",
       "    <tr>\n",
       "      <th>4</th>\n",
       "      <td>JOB1362685407691</td>\n",
       "      <td>COMP36</td>\n",
       "      <td>JUNIOR</td>\n",
       "      <td>DOCTORAL</td>\n",
       "      <td>BIOLOGY</td>\n",
       "      <td>OIL</td>\n",
       "      <td>10</td>\n",
       "      <td>44</td>\n",
       "    </tr>\n",
       "    <tr>\n",
       "      <th>...</th>\n",
       "      <td>...</td>\n",
       "      <td>...</td>\n",
       "      <td>...</td>\n",
       "      <td>...</td>\n",
       "      <td>...</td>\n",
       "      <td>...</td>\n",
       "      <td>...</td>\n",
       "      <td>...</td>\n",
       "    </tr>\n",
       "    <tr>\n",
       "      <th>999995</th>\n",
       "      <td>JOB1362686407682</td>\n",
       "      <td>COMP54</td>\n",
       "      <td>VICE_PRESIDENT</td>\n",
       "      <td>BACHELORS</td>\n",
       "      <td>MATH</td>\n",
       "      <td>OIL</td>\n",
       "      <td>14</td>\n",
       "      <td>3</td>\n",
       "    </tr>\n",
       "    <tr>\n",
       "      <th>999996</th>\n",
       "      <td>JOB1362686407683</td>\n",
       "      <td>COMP5</td>\n",
       "      <td>MANAGER</td>\n",
       "      <td>NONE</td>\n",
       "      <td>NONE</td>\n",
       "      <td>HEALTH</td>\n",
       "      <td>20</td>\n",
       "      <td>67</td>\n",
       "    </tr>\n",
       "    <tr>\n",
       "      <th>999997</th>\n",
       "      <td>JOB1362686407684</td>\n",
       "      <td>COMP61</td>\n",
       "      <td>JANITOR</td>\n",
       "      <td>NONE</td>\n",
       "      <td>NONE</td>\n",
       "      <td>OIL</td>\n",
       "      <td>1</td>\n",
       "      <td>91</td>\n",
       "    </tr>\n",
       "    <tr>\n",
       "      <th>999998</th>\n",
       "      <td>JOB1362686407685</td>\n",
       "      <td>COMP19</td>\n",
       "      <td>CTO</td>\n",
       "      <td>DOCTORAL</td>\n",
       "      <td>MATH</td>\n",
       "      <td>OIL</td>\n",
       "      <td>14</td>\n",
       "      <td>63</td>\n",
       "    </tr>\n",
       "    <tr>\n",
       "      <th>999999</th>\n",
       "      <td>JOB1362686407686</td>\n",
       "      <td>COMP34</td>\n",
       "      <td>JUNIOR</td>\n",
       "      <td>NONE</td>\n",
       "      <td>NONE</td>\n",
       "      <td>OIL</td>\n",
       "      <td>16</td>\n",
       "      <td>31</td>\n",
       "    </tr>\n",
       "  </tbody>\n",
       "</table>\n",
       "<p>1000000 rows × 8 columns</p>\n",
       "</div>"
      ],
      "text/plain": [
       "                   jobId companyId         jobType       degree    major  \\\n",
       "0       JOB1362685407687    COMP33         MANAGER  HIGH_SCHOOL     NONE   \n",
       "1       JOB1362685407688    COMP13          JUNIOR         NONE     NONE   \n",
       "2       JOB1362685407689    COMP10             CTO      MASTERS  BIOLOGY   \n",
       "3       JOB1362685407690    COMP21         MANAGER  HIGH_SCHOOL     NONE   \n",
       "4       JOB1362685407691    COMP36          JUNIOR     DOCTORAL  BIOLOGY   \n",
       "...                  ...       ...             ...          ...      ...   \n",
       "999995  JOB1362686407682    COMP54  VICE_PRESIDENT    BACHELORS     MATH   \n",
       "999996  JOB1362686407683     COMP5         MANAGER         NONE     NONE   \n",
       "999997  JOB1362686407684    COMP61         JANITOR         NONE     NONE   \n",
       "999998  JOB1362686407685    COMP19             CTO     DOCTORAL     MATH   \n",
       "999999  JOB1362686407686    COMP34          JUNIOR         NONE     NONE   \n",
       "\n",
       "       industry  yearsExperience  milesFromMetropolis  \n",
       "0        HEALTH               22                   73  \n",
       "1          AUTO               20                   47  \n",
       "2        HEALTH               17                    9  \n",
       "3           OIL               14                   96  \n",
       "4           OIL               10                   44  \n",
       "...         ...              ...                  ...  \n",
       "999995      OIL               14                    3  \n",
       "999996   HEALTH               20                   67  \n",
       "999997      OIL                1                   91  \n",
       "999998      OIL               14                   63  \n",
       "999999      OIL               16                   31  \n",
       "\n",
       "[1000000 rows x 8 columns]"
      ]
     },
     "metadata": {},
     "output_type": "display_data"
    },
    {
     "name": "stdout",
     "output_type": "stream",
     "text": [
      "<class 'pandas.core.frame.DataFrame'>\n",
      "RangeIndex: 1000000 entries, 0 to 999999\n",
      "Data columns (total 8 columns):\n",
      " #   Column               Non-Null Count    Dtype \n",
      "---  ------               --------------    ----- \n",
      " 0   jobId                1000000 non-null  object\n",
      " 1   companyId            1000000 non-null  object\n",
      " 2   jobType              1000000 non-null  object\n",
      " 3   degree               1000000 non-null  object\n",
      " 4   major                1000000 non-null  object\n",
      " 5   industry             1000000 non-null  object\n",
      " 6   yearsExperience      1000000 non-null  int64 \n",
      " 7   milesFromMetropolis  1000000 non-null  int64 \n",
      "dtypes: int64(2), object(6)\n",
      "memory usage: 61.0+ MB\n"
     ]
    }
   ],
   "source": [
    "display(test_data)\n",
    "test_data.info()"
   ]
  },
  {
   "cell_type": "markdown",
   "metadata": {},
   "source": [
    "### ---- 3 Clean the data ----\n",
    "\n",
    "#### Look for duplicate data in the training set. Duplicate job IDs may indicate corrupt data."
   ]
  },
  {
   "cell_type": "code",
   "execution_count": 5,
   "metadata": {},
   "outputs": [
    {
     "name": "stdout",
     "output_type": "stream",
     "text": [
      "There are 0 duplicate rows in the training set.\n",
      "There are 0 duplicate jobIDs in the training set.\n"
     ]
    }
   ],
   "source": [
    "print(\"There are {} duplicate rows in the training set.\".format(train_data.duplicated().sum()))\n",
    "print(\"There are {} duplicate jobIDs in the training set.\".format(train_data['jobId'].duplicated().sum()))"
   ]
  },
  {
   "cell_type": "markdown",
   "metadata": {},
   "source": [
    "#### Look for invalid data.\n",
    "\n",
    "We know from earlier that there are no null values. We can check that all values are appropriate for each variable."
   ]
  },
  {
   "cell_type": "code",
   "execution_count": 6,
   "metadata": {},
   "outputs": [
    {
     "name": "stdout",
     "output_type": "stream",
     "text": [
      "Checking test set\n",
      "Are all years of experience non-negative?\n",
      "True\n",
      "Are all miles from metropolis non-negative?\n",
      "True\n",
      "\n",
      "\n",
      "Checking training set\n",
      "Are all years of experience non-negative?\n",
      "True\n",
      "Are all miles from metropolis non-negative?\n",
      "True\n",
      "\n",
      "\n",
      "Are all salary values in training set positive?\n",
      "False\n"
     ]
    }
   ],
   "source": [
    "# Numerical features in both dataframes\n",
    "\n",
    "for df_name, df in {\"test set\": test_data, \"training set\": train_data}.items():\n",
    "    print(\"Checking {}\".format(df_name))\n",
    "    print(\"Are all years of experience non-negative?\")\n",
    "    print(df[df['yearsExperience'] < 0].empty)\n",
    "    print(\"Are all miles from metropolis non-negative?\")\n",
    "    print(df[df['milesFromMetropolis'] < 0].empty)\n",
    "    print(\"\\n\")\n",
    "    \n",
    "print(\"Are all salary values in training set positive?\")\n",
    "print(train_data[train_data['salary'] <= 0].empty)"
   ]
  },
  {
   "cell_type": "markdown",
   "metadata": {},
   "source": [
    "#### Observe jobs whose salaries are not positive"
   ]
  },
  {
   "cell_type": "code",
   "execution_count": 7,
   "metadata": {},
   "outputs": [
    {
     "data": {
      "text/html": [
       "<div>\n",
       "<style scoped>\n",
       "    .dataframe tbody tr th:only-of-type {\n",
       "        vertical-align: middle;\n",
       "    }\n",
       "\n",
       "    .dataframe tbody tr th {\n",
       "        vertical-align: top;\n",
       "    }\n",
       "\n",
       "    .dataframe thead th {\n",
       "        text-align: right;\n",
       "    }\n",
       "</style>\n",
       "<table border=\"1\" class=\"dataframe\">\n",
       "  <thead>\n",
       "    <tr style=\"text-align: right;\">\n",
       "      <th></th>\n",
       "      <th>jobId</th>\n",
       "      <th>companyId</th>\n",
       "      <th>jobType</th>\n",
       "      <th>degree</th>\n",
       "      <th>major</th>\n",
       "      <th>industry</th>\n",
       "      <th>yearsExperience</th>\n",
       "      <th>milesFromMetropolis</th>\n",
       "      <th>salary</th>\n",
       "    </tr>\n",
       "  </thead>\n",
       "  <tbody>\n",
       "    <tr>\n",
       "      <th>30559</th>\n",
       "      <td>JOB1362684438246</td>\n",
       "      <td>COMP44</td>\n",
       "      <td>JUNIOR</td>\n",
       "      <td>DOCTORAL</td>\n",
       "      <td>MATH</td>\n",
       "      <td>AUTO</td>\n",
       "      <td>11</td>\n",
       "      <td>7</td>\n",
       "      <td>0</td>\n",
       "    </tr>\n",
       "    <tr>\n",
       "      <th>495984</th>\n",
       "      <td>JOB1362684903671</td>\n",
       "      <td>COMP34</td>\n",
       "      <td>JUNIOR</td>\n",
       "      <td>NONE</td>\n",
       "      <td>NONE</td>\n",
       "      <td>OIL</td>\n",
       "      <td>1</td>\n",
       "      <td>25</td>\n",
       "      <td>0</td>\n",
       "    </tr>\n",
       "    <tr>\n",
       "      <th>652076</th>\n",
       "      <td>JOB1362685059763</td>\n",
       "      <td>COMP25</td>\n",
       "      <td>CTO</td>\n",
       "      <td>HIGH_SCHOOL</td>\n",
       "      <td>NONE</td>\n",
       "      <td>AUTO</td>\n",
       "      <td>6</td>\n",
       "      <td>60</td>\n",
       "      <td>0</td>\n",
       "    </tr>\n",
       "    <tr>\n",
       "      <th>816129</th>\n",
       "      <td>JOB1362685223816</td>\n",
       "      <td>COMP42</td>\n",
       "      <td>MANAGER</td>\n",
       "      <td>DOCTORAL</td>\n",
       "      <td>ENGINEERING</td>\n",
       "      <td>FINANCE</td>\n",
       "      <td>18</td>\n",
       "      <td>6</td>\n",
       "      <td>0</td>\n",
       "    </tr>\n",
       "    <tr>\n",
       "      <th>828156</th>\n",
       "      <td>JOB1362685235843</td>\n",
       "      <td>COMP40</td>\n",
       "      <td>VICE_PRESIDENT</td>\n",
       "      <td>MASTERS</td>\n",
       "      <td>ENGINEERING</td>\n",
       "      <td>WEB</td>\n",
       "      <td>3</td>\n",
       "      <td>29</td>\n",
       "      <td>0</td>\n",
       "    </tr>\n",
       "  </tbody>\n",
       "</table>\n",
       "</div>"
      ],
      "text/plain": [
       "                   jobId companyId         jobType       degree        major  \\\n",
       "30559   JOB1362684438246    COMP44          JUNIOR     DOCTORAL         MATH   \n",
       "495984  JOB1362684903671    COMP34          JUNIOR         NONE         NONE   \n",
       "652076  JOB1362685059763    COMP25             CTO  HIGH_SCHOOL         NONE   \n",
       "816129  JOB1362685223816    COMP42         MANAGER     DOCTORAL  ENGINEERING   \n",
       "828156  JOB1362685235843    COMP40  VICE_PRESIDENT      MASTERS  ENGINEERING   \n",
       "\n",
       "       industry  yearsExperience  milesFromMetropolis  salary  \n",
       "30559      AUTO               11                    7       0  \n",
       "495984      OIL                1                   25       0  \n",
       "652076     AUTO                6                   60       0  \n",
       "816129  FINANCE               18                    6       0  \n",
       "828156      WEB                3                   29       0  "
      ]
     },
     "execution_count": 7,
     "metadata": {},
     "output_type": "execute_result"
    }
   ],
   "source": [
    "train_data[train_data['salary'] <= 0]"
   ]
  },
  {
   "cell_type": "markdown",
   "metadata": {},
   "source": [
    "None of these salaries is negative. A salary can be zero (or rounded down to zero) if the employee opts to receive alternative compensation so these data may be valid. However, it is also possible these are missing values. Since the training dataset is large (1,000,000 samples), it is safe to drop these samples."
   ]
  },
  {
   "cell_type": "code",
   "execution_count": 8,
   "metadata": {},
   "outputs": [
    {
     "name": "stdout",
     "output_type": "stream",
     "text": [
      "The number of samples is now 999,995.\n"
     ]
    }
   ],
   "source": [
    "train_data.drop(train_data[train_data['salary'] == 0].index, inplace=True)\n",
    "print(\"The number of samples is now {:,}.\".format(train_data.shape[0]))"
   ]
  },
  {
   "cell_type": "code",
   "execution_count": 9,
   "metadata": {},
   "outputs": [
    {
     "name": "stdout",
     "output_type": "stream",
     "text": [
      "Checking training set\n",
      "\n",
      "Values for jobType are: ['CFO', 'CEO', 'VICE_PRESIDENT', 'MANAGER', 'JUNIOR', 'JANITOR', 'CTO', 'SENIOR']\n",
      "Values for degree are: ['MASTERS', 'HIGH_SCHOOL', 'DOCTORAL', 'BACHELORS', 'NONE']\n",
      "Values for major are: ['MATH', 'NONE', 'PHYSICS', 'CHEMISTRY', 'COMPSCI', 'BIOLOGY', 'LITERATURE', 'BUSINESS', 'ENGINEERING']\n",
      "Values for industry are: ['HEALTH', 'WEB', 'AUTO', 'FINANCE', 'EDUCATION', 'OIL', 'SERVICE']\n",
      "\n",
      "\n",
      "Checking test set\n",
      "\n",
      "Values for jobType are: ['MANAGER', 'JUNIOR', 'CTO', 'SENIOR', 'CEO', 'VICE_PRESIDENT', 'JANITOR', 'CFO']\n",
      "Values for degree are: ['HIGH_SCHOOL', 'NONE', 'MASTERS', 'DOCTORAL', 'BACHELORS']\n",
      "Values for major are: ['NONE', 'BIOLOGY', 'COMPSCI', 'PHYSICS', 'LITERATURE', 'MATH', 'CHEMISTRY', 'ENGINEERING', 'BUSINESS']\n",
      "Values for industry are: ['HEALTH', 'AUTO', 'OIL', 'FINANCE', 'SERVICE', 'EDUCATION', 'WEB']\n",
      "\n",
      "\n"
     ]
    }
   ],
   "source": [
    "# Categorical features in both dataframes\n",
    "\n",
    "for df_name, df in {\"training set\": train_data, \"test set\": test_data}.items():\n",
    "    print(\"Checking {}\\n\".format(df_name))\n",
    "    for feature in ['jobType', 'degree', 'major', 'industry']:\n",
    "        print(\"Values for {} are: {}\".format(feature, list(df[feature].unique())))\n",
    "    print(\"\\n\")"
   ]
  },
  {
   "cell_type": "markdown",
   "metadata": {},
   "source": [
    "All values appear to be valid."
   ]
  },
  {
   "cell_type": "markdown",
   "metadata": {},
   "source": [
    "#### Check that majors are only given for jobs that require degrees"
   ]
  },
  {
   "cell_type": "code",
   "execution_count": 10,
   "metadata": {},
   "outputs": [
    {
     "data": {
      "text/plain": [
       "['MASTERS', 'DOCTORAL', 'BACHELORS']"
      ]
     },
     "execution_count": 10,
     "metadata": {},
     "output_type": "execute_result"
    }
   ],
   "source": [
    "list(train_data[train_data['major'] != \"NONE\"].degree.unique())"
   ]
  },
  {
   "cell_type": "markdown",
   "metadata": {},
   "source": [
    "#### As jobIDs are unique, we can set them as the indices for the dataframes."
   ]
  },
  {
   "cell_type": "code",
   "execution_count": 11,
   "metadata": {},
   "outputs": [],
   "source": [
    "for df in [train_data, test_data]:\n",
    "    df.set_index('jobId', inplace=True)"
   ]
  },
  {
   "cell_type": "markdown",
   "metadata": {},
   "source": [
    "#### Finally, check that none of the training jobIds are repeated in the test set."
   ]
  },
  {
   "cell_type": "code",
   "execution_count": 12,
   "metadata": {},
   "outputs": [
    {
     "name": "stdout",
     "output_type": "stream",
     "text": [
      "The intersection contains 0 samples.\n"
     ]
    }
   ],
   "source": [
    "print(\"The intersection contains {} samples.\".format(train_data.index.intersection(test_data.index).size))"
   ]
  },
  {
   "cell_type": "markdown",
   "metadata": {},
   "source": [
    "### ---- 4 Explore the data (EDA) ----\n",
    "\n",
    "Start by getting a description of all categorical and numerical variables."
   ]
  },
  {
   "cell_type": "code",
   "execution_count": 13,
   "metadata": {},
   "outputs": [
    {
     "data": {
      "text/html": [
       "<div>\n",
       "<style scoped>\n",
       "    .dataframe tbody tr th:only-of-type {\n",
       "        vertical-align: middle;\n",
       "    }\n",
       "\n",
       "    .dataframe tbody tr th {\n",
       "        vertical-align: top;\n",
       "    }\n",
       "\n",
       "    .dataframe thead th {\n",
       "        text-align: right;\n",
       "    }\n",
       "</style>\n",
       "<table border=\"1\" class=\"dataframe\">\n",
       "  <thead>\n",
       "    <tr style=\"text-align: right;\">\n",
       "      <th></th>\n",
       "      <th>companyId</th>\n",
       "      <th>jobType</th>\n",
       "      <th>degree</th>\n",
       "      <th>major</th>\n",
       "      <th>industry</th>\n",
       "    </tr>\n",
       "  </thead>\n",
       "  <tbody>\n",
       "    <tr>\n",
       "      <th>count</th>\n",
       "      <td>999995</td>\n",
       "      <td>999995</td>\n",
       "      <td>999995</td>\n",
       "      <td>999995</td>\n",
       "      <td>999995</td>\n",
       "    </tr>\n",
       "    <tr>\n",
       "      <th>unique</th>\n",
       "      <td>63</td>\n",
       "      <td>8</td>\n",
       "      <td>5</td>\n",
       "      <td>9</td>\n",
       "      <td>7</td>\n",
       "    </tr>\n",
       "    <tr>\n",
       "      <th>top</th>\n",
       "      <td>COMP39</td>\n",
       "      <td>SENIOR</td>\n",
       "      <td>HIGH_SCHOOL</td>\n",
       "      <td>NONE</td>\n",
       "      <td>WEB</td>\n",
       "    </tr>\n",
       "    <tr>\n",
       "      <th>freq</th>\n",
       "      <td>16193</td>\n",
       "      <td>125886</td>\n",
       "      <td>236975</td>\n",
       "      <td>532353</td>\n",
       "      <td>143205</td>\n",
       "    </tr>\n",
       "  </tbody>\n",
       "</table>\n",
       "</div>"
      ],
      "text/plain": [
       "       companyId jobType       degree   major industry\n",
       "count     999995  999995       999995  999995   999995\n",
       "unique        63       8            5       9        7\n",
       "top       COMP39  SENIOR  HIGH_SCHOOL    NONE      WEB\n",
       "freq       16193  125886       236975  532353   143205"
      ]
     },
     "execution_count": 13,
     "metadata": {},
     "output_type": "execute_result"
    }
   ],
   "source": [
    "train_data.describe(include=['O'])"
   ]
  },
  {
   "cell_type": "code",
   "execution_count": 14,
   "metadata": {},
   "outputs": [
    {
     "data": {
      "text/html": [
       "<div>\n",
       "<style scoped>\n",
       "    .dataframe tbody tr th:only-of-type {\n",
       "        vertical-align: middle;\n",
       "    }\n",
       "\n",
       "    .dataframe tbody tr th {\n",
       "        vertical-align: top;\n",
       "    }\n",
       "\n",
       "    .dataframe thead th {\n",
       "        text-align: right;\n",
       "    }\n",
       "</style>\n",
       "<table border=\"1\" class=\"dataframe\">\n",
       "  <thead>\n",
       "    <tr style=\"text-align: right;\">\n",
       "      <th></th>\n",
       "      <th>yearsExperience</th>\n",
       "      <th>milesFromMetropolis</th>\n",
       "      <th>salary</th>\n",
       "    </tr>\n",
       "  </thead>\n",
       "  <tbody>\n",
       "    <tr>\n",
       "      <th>count</th>\n",
       "      <td>999995.000000</td>\n",
       "      <td>999995.000000</td>\n",
       "      <td>999995.000000</td>\n",
       "    </tr>\n",
       "    <tr>\n",
       "      <th>mean</th>\n",
       "      <td>11.992407</td>\n",
       "      <td>49.529381</td>\n",
       "      <td>116.062398</td>\n",
       "    </tr>\n",
       "    <tr>\n",
       "      <th>std</th>\n",
       "      <td>7.212390</td>\n",
       "      <td>28.877721</td>\n",
       "      <td>38.717163</td>\n",
       "    </tr>\n",
       "    <tr>\n",
       "      <th>min</th>\n",
       "      <td>0.000000</td>\n",
       "      <td>0.000000</td>\n",
       "      <td>17.000000</td>\n",
       "    </tr>\n",
       "    <tr>\n",
       "      <th>25%</th>\n",
       "      <td>6.000000</td>\n",
       "      <td>25.000000</td>\n",
       "      <td>88.000000</td>\n",
       "    </tr>\n",
       "    <tr>\n",
       "      <th>50%</th>\n",
       "      <td>12.000000</td>\n",
       "      <td>50.000000</td>\n",
       "      <td>114.000000</td>\n",
       "    </tr>\n",
       "    <tr>\n",
       "      <th>75%</th>\n",
       "      <td>18.000000</td>\n",
       "      <td>75.000000</td>\n",
       "      <td>141.000000</td>\n",
       "    </tr>\n",
       "    <tr>\n",
       "      <th>max</th>\n",
       "      <td>24.000000</td>\n",
       "      <td>99.000000</td>\n",
       "      <td>301.000000</td>\n",
       "    </tr>\n",
       "  </tbody>\n",
       "</table>\n",
       "</div>"
      ],
      "text/plain": [
       "       yearsExperience  milesFromMetropolis         salary\n",
       "count    999995.000000        999995.000000  999995.000000\n",
       "mean         11.992407            49.529381     116.062398\n",
       "std           7.212390            28.877721      38.717163\n",
       "min           0.000000             0.000000      17.000000\n",
       "25%           6.000000            25.000000      88.000000\n",
       "50%          12.000000            50.000000     114.000000\n",
       "75%          18.000000            75.000000     141.000000\n",
       "max          24.000000            99.000000     301.000000"
      ]
     },
     "execution_count": 14,
     "metadata": {},
     "output_type": "execute_result"
    }
   ],
   "source": [
    "train_data.describe(include=np.number)"
   ]
  },
  {
   "cell_type": "code",
   "execution_count": 15,
   "metadata": {},
   "outputs": [
    {
     "name": "stderr",
     "output_type": "stream",
     "text": [
      "/opt/anaconda3/lib/python3.8/site-packages/seaborn/_decorators.py:36: FutureWarning: Pass the following variable as a keyword arg: x. From version 0.12, the only valid positional argument will be `data`, and passing other arguments without an explicit keyword will result in an error or misinterpretation.\n",
      "  warnings.warn(\n"
     ]
    },
    {
     "data": {
      "text/plain": [
       "<AxesSubplot:xlabel='salary', ylabel='Count'>"
      ]
     },
     "execution_count": 15,
     "metadata": {},
     "output_type": "execute_result"
    },
    {
     "data": {
      "image/png": "[encoded data removed]",
      "text/plain": [
       "<Figure size 1152x720 with 2 Axes>"
      ]
     },
     "metadata": {},
     "output_type": "display_data"
    }
   ],
   "source": [
    "sns.set_theme(style='whitegrid', palette='colorblind')\n",
    "\n",
    "salary_plot = plt.figure(figsize=(16,10))\n",
    "\n",
    "salary_box = salary_plot.add_subplot(2, 1, 1)\n",
    "sns.boxplot(train_data.salary, ax=salary_box)\n",
    "\n",
    "hist_box = salary_plot.add_subplot(2, 1, 2)\n",
    "sns.histplot(train_data.salary, bins=20, kde=True)"
   ]
  },
  {
   "cell_type": "markdown",
   "metadata": {},
   "source": [
    "The salary is approximately normally distributed. There are some outliers on the upper end of the distribution. These can be explored using the interquartile rule for outliers."
   ]
  },
  {
   "cell_type": "code",
   "execution_count": 16,
   "metadata": {},
   "outputs": [
    {
     "name": "stdout",
     "output_type": "stream",
     "text": [
      "There are 0 lower outliers.\n"
     ]
    },
    {
     "data": {
      "text/plain": [
       "CEO               3227\n",
       "CFO               1496\n",
       "CTO               1488\n",
       "VICE_PRESIDENT     603\n",
       "MANAGER            217\n",
       "SENIOR              66\n",
       "JUNIOR              20\n",
       "Name: jobType, dtype: int64"
      ]
     },
     "metadata": {},
     "output_type": "display_data"
    },
    {
     "data": {
      "text/plain": [
       "DOCTORAL       2981\n",
       "MASTERS        2134\n",
       "BACHELORS      1440\n",
       "HIGH_SCHOOL     354\n",
       "NONE            208\n",
       "Name: degree, dtype: int64"
      ]
     },
     "metadata": {},
     "output_type": "display_data"
    },
    {
     "data": {
      "text/plain": [
       "OIL          2368\n",
       "FINANCE      2200\n",
       "WEB          1280\n",
       "HEALTH        631\n",
       "AUTO          325\n",
       "SERVICE       200\n",
       "EDUCATION     113\n",
       "Name: industry, dtype: int64"
      ]
     },
     "metadata": {},
     "output_type": "display_data"
    }
   ],
   "source": [
    "def interquartile_rule(feature, dataset=train_data):\n",
    "    '''\n",
    "    Apply the interquartile rule to a numerical feature to return outliers.\n",
    "    '''\n",
    "    upper_quartile = dataset[feature].quantile(0.75)\n",
    "    lower_quartile = dataset[feature].quantile(0.25)\n",
    "    iqr = upper_quartile - lower_quartile\n",
    "    upper_bound = upper_quartile + iqr * 1.5\n",
    "    lower_bound = lower_quartile - iqr * 1.5\n",
    "    \n",
    "    outliers = dataset[(dataset[feature] < lower_bound) | (dataset[feature] > upper_bound)]\n",
    "    \n",
    "    upper_count = outliers[outliers[feature] > upper_bound].shape[0]\n",
    "    lower_count = outliers[outliers[feature] < lower_bound].shape[0]\n",
    "    \n",
    "    return outliers, upper_count, lower_count\n",
    "\n",
    "salary_outliers, salary_uppers, salary_lowers = interquartile_rule('salary')\n",
    "\n",
    "print(\"There are {} lower outliers.\".format(salary_lowers))\n",
    "\n",
    "for feature in ['jobType', 'degree', 'industry']:\n",
    "    display(salary_outliers[feature].value_counts())"
   ]
  },
  {
   "cell_type": "markdown",
   "metadata": {},
   "source": [
    "The bulk of the outliers, which are all upper outliers, correspond to typically high-paying roles, high educational qualifications and profitable industries (such as oil and finance). This is to be expected and provides confidence in the validity of the data.\n",
    "\n",
    "It is worthwhile to explore those outliers which require no educational qualification. There are 208 such outliers."
   ]
  },
  {
   "cell_type": "code",
   "execution_count": 17,
   "metadata": {},
   "outputs": [
    {
     "data": {
      "text/plain": [
       "CEO               124\n",
       "CFO                41\n",
       "CTO                35\n",
       "VICE_PRESIDENT      8\n",
       "Name: jobType, dtype: int64"
      ]
     },
     "execution_count": 17,
     "metadata": {},
     "output_type": "execute_result"
    }
   ],
   "source": [
    "salary_outliers[salary_outliers.degree == \"NONE\"].jobType.value_counts()"
   ]
  },
  {
   "cell_type": "markdown",
   "metadata": {},
   "source": [
    "These are all typically high-paying roles, which is a good sign."
   ]
  }
 ],
 "metadata": {
  "kernelspec": {
   "display_name": "Python 3",
   "language": "python",
   "name": "python3"
  },
  "language_info": {
   "codemirror_mode": {
    "name": "ipython",
    "version": 3
   },
   "file_extension": ".py",
   "mimetype": "text/x-python",
   "name": "python",
   "nbconvert_exporter": "python",
   "pygments_lexer": "ipython3",
   "version": "3.8.5"
  }
 },
 "nbformat": 4,
 "nbformat_minor": 4
}
